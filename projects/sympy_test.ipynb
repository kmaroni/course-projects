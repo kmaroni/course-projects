{
 "cells": [
  {
   "cell_type": "code",
   "execution_count": 3,
   "id": "0ddbd791-19c7-4e62-b233-78874f21e738",
   "metadata": {
    "scrolled": true
   },
   "outputs": [
    {
     "data": {
      "text/latex": [
       "$\\displaystyle 1 - \\frac{x^{2}}{2} + \\frac{x^{4}}{24} + O\\left(x^{5}\\right)$"
      ],
      "text/plain": [
       "1 - x**2/2 + x**4/24 + O(x**5)"
      ]
     },
     "metadata": {},
     "output_type": "display_data"
    },
    {
     "data": {
      "text/latex": [
       "$\\displaystyle x - \\frac{x^{3}}{6} + O\\left(x^{5}\\right)$"
      ],
      "text/plain": [
       "x - x**3/6 + O(x**5)"
      ]
     },
     "metadata": {},
     "output_type": "display_data"
    }
   ],
   "source": [
    "import sympy as sp\n",
    "x,i = sp.symbols('x,i')\n",
    "n = 5\n",
    "c = sp.cos(x).series(x,0,n)\n",
    "s = sp.sin(x).series(x,0,n)\n",
    "\n",
    "display(c)\n",
    "display(s)\n"
   ]
  },
  {
   "cell_type": "code",
   "execution_count": 29,
   "id": "1afe9117-fd9a-4412-8a74-e59ce2c4fd51",
   "metadata": {},
   "outputs": [
    {
     "data": {
      "text/latex": [
       "$\\displaystyle \\frac{\\sqrt{2} \\pi \\operatorname{erf}{\\left(\\frac{\\sqrt{2} x}{2 \\sqrt{\\pi}} \\right)}}{2}$"
      ],
      "text/plain": [
       "sqrt(2)*pi*erf(sqrt(2)*x/(2*sqrt(pi)))/2"
      ]
     },
     "metadata": {},
     "output_type": "display_data"
    }
   ],
   "source": [
    "I = sp.integrate(sp.exp(-x**2/(2*sp.pi)),x)/(2*sp.pi)\n",
    "display(I)"
   ]
  },
  {
   "cell_type": "code",
   "execution_count": null,
   "id": "90f1fe06-4383-4a6b-9a06-87e9a5d0a1c8",
   "metadata": {},
   "outputs": [],
   "source": []
  }
 ],
 "metadata": {
  "kernelspec": {
   "display_name": "Python 3 (ipykernel)",
   "language": "python",
   "name": "python3"
  },
  "language_info": {
   "codemirror_mode": {
    "name": "ipython",
    "version": 3
   },
   "file_extension": ".py",
   "mimetype": "text/x-python",
   "name": "python",
   "nbconvert_exporter": "python",
   "pygments_lexer": "ipython3",
   "version": "3.12.4"
  }
 },
 "nbformat": 4,
 "nbformat_minor": 5
}
